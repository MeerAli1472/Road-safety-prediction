{
 "cells": [
  {
   "cell_type": "code",
   "execution_count": 1,
   "id": "e69d27c3",
   "metadata": {},
   "outputs": [],
   "source": [
    "import numpy as np\n",
    "import pandas as pd\n",
    "import matplotlib.pyplot as plt\n",
    "import seaborn as sns\n",
    "import plotly.express as px"
   ]
  },
  {
   "cell_type": "code",
   "execution_count": 3,
   "id": "4e166b68",
   "metadata": {},
   "outputs": [],
   "source": [
    "# read csv file\n",
    "data=pd.read_csv(\"./road_accident1.csv\")"
   ]
  },
  {
   "cell_type": "code",
   "execution_count": 4,
   "id": "912d7bfa",
   "metadata": {},
   "outputs": [
    {
     "data": {
      "text/html": [
       "<div>\n",
       "<style scoped>\n",
       "    .dataframe tbody tr th:only-of-type {\n",
       "        vertical-align: middle;\n",
       "    }\n",
       "\n",
       "    .dataframe tbody tr th {\n",
       "        vertical-align: top;\n",
       "    }\n",
       "\n",
       "    .dataframe thead th {\n",
       "        text-align: right;\n",
       "    }\n",
       "</style>\n",
       "<table border=\"1\" class=\"dataframe\">\n",
       "  <thead>\n",
       "    <tr style=\"text-align: right;\">\n",
       "      <th></th>\n",
       "      <th>Unnamed: 0</th>\n",
       "      <th>age_of_driver</th>\n",
       "      <th>Sex_of_driver</th>\n",
       "      <th>car_age</th>\n",
       "      <th>Road_surface_type</th>\n",
       "      <th>Road_surface_conditions</th>\n",
       "      <th>Light_conditions</th>\n",
       "      <th>Weather_conditions</th>\n",
       "      <th>Cause_of_accident</th>\n",
       "      <th>Accident_severity</th>\n",
       "      <th>accident history</th>\n",
       "    </tr>\n",
       "  </thead>\n",
       "  <tbody>\n",
       "    <tr>\n",
       "      <th>0</th>\n",
       "      <td>0</td>\n",
       "      <td>18-30</td>\n",
       "      <td>Male</td>\n",
       "      <td>Above 10yr</td>\n",
       "      <td>Asphalt roads</td>\n",
       "      <td>Dry</td>\n",
       "      <td>Daylight</td>\n",
       "      <td>Normal</td>\n",
       "      <td>Moving Backward</td>\n",
       "      <td>2</td>\n",
       "      <td>12</td>\n",
       "    </tr>\n",
       "    <tr>\n",
       "      <th>1</th>\n",
       "      <td>1</td>\n",
       "      <td>31-50</td>\n",
       "      <td>Male</td>\n",
       "      <td>5-10yrs</td>\n",
       "      <td>Asphalt roads</td>\n",
       "      <td>Dry</td>\n",
       "      <td>Daylight</td>\n",
       "      <td>Normal</td>\n",
       "      <td>Overtaking</td>\n",
       "      <td>2</td>\n",
       "      <td>1665</td>\n",
       "    </tr>\n",
       "    <tr>\n",
       "      <th>2</th>\n",
       "      <td>4</td>\n",
       "      <td>18-30</td>\n",
       "      <td>Male</td>\n",
       "      <td>5-10yrs</td>\n",
       "      <td>Asphalt roads</td>\n",
       "      <td>Dry</td>\n",
       "      <td>Darkness - lights lit</td>\n",
       "      <td>Normal</td>\n",
       "      <td>Overtaking</td>\n",
       "      <td>2</td>\n",
       "      <td>2554</td>\n",
       "    </tr>\n",
       "    <tr>\n",
       "      <th>3</th>\n",
       "      <td>7</td>\n",
       "      <td>18-30</td>\n",
       "      <td>Male</td>\n",
       "      <td>Above 10yr</td>\n",
       "      <td>Asphalt roads</td>\n",
       "      <td>Dry</td>\n",
       "      <td>Daylight</td>\n",
       "      <td>Normal</td>\n",
       "      <td>No priority to vehicle</td>\n",
       "      <td>2</td>\n",
       "      <td>1746</td>\n",
       "    </tr>\n",
       "    <tr>\n",
       "      <th>4</th>\n",
       "      <td>8</td>\n",
       "      <td>18-30</td>\n",
       "      <td>Male</td>\n",
       "      <td>1-2yr</td>\n",
       "      <td>Earth roads</td>\n",
       "      <td>Dry</td>\n",
       "      <td>Daylight</td>\n",
       "      <td>Normal</td>\n",
       "      <td>Changing lane to the right</td>\n",
       "      <td>2</td>\n",
       "      <td>14</td>\n",
       "    </tr>\n",
       "  </tbody>\n",
       "</table>\n",
       "</div>"
      ],
      "text/plain": [
       "   Unnamed: 0 age_of_driver Sex_of_driver     car_age Road_surface_type  \\\n",
       "0           0         18-30          Male  Above 10yr     Asphalt roads   \n",
       "1           1         31-50          Male     5-10yrs     Asphalt roads   \n",
       "2           4         18-30          Male     5-10yrs     Asphalt roads   \n",
       "3           7         18-30          Male  Above 10yr     Asphalt roads   \n",
       "4           8         18-30          Male       1-2yr       Earth roads   \n",
       "\n",
       "  Road_surface_conditions       Light_conditions Weather_conditions  \\\n",
       "0                     Dry               Daylight             Normal   \n",
       "1                     Dry               Daylight             Normal   \n",
       "2                     Dry  Darkness - lights lit             Normal   \n",
       "3                     Dry               Daylight             Normal   \n",
       "4                     Dry               Daylight             Normal   \n",
       "\n",
       "            Cause_of_accident  Accident_severity  accident history  \n",
       "0             Moving Backward                  2                12  \n",
       "1                  Overtaking                  2              1665  \n",
       "2                  Overtaking                  2              2554  \n",
       "3      No priority to vehicle                  2              1746  \n",
       "4  Changing lane to the right                  2                14  "
      ]
     },
     "execution_count": 4,
     "metadata": {},
     "output_type": "execute_result"
    }
   ],
   "source": [
    "data.head()"
   ]
  },
  {
   "cell_type": "markdown",
   "id": "a362505d",
   "metadata": {},
   "source": [
    "# PREPROCESSING"
   ]
  },
  {
   "cell_type": "code",
   "execution_count": 5,
   "id": "53359cbe",
   "metadata": {},
   "outputs": [],
   "source": [
    "# display maximum 99 columns \n",
    "pd.options.display.max_columns=99"
   ]
  },
  {
   "cell_type": "code",
   "execution_count": 6,
   "id": "f23b5979",
   "metadata": {
    "scrolled": true
   },
   "outputs": [
    {
     "data": {
      "text/html": [
       "<div>\n",
       "<style scoped>\n",
       "    .dataframe tbody tr th:only-of-type {\n",
       "        vertical-align: middle;\n",
       "    }\n",
       "\n",
       "    .dataframe tbody tr th {\n",
       "        vertical-align: top;\n",
       "    }\n",
       "\n",
       "    .dataframe thead th {\n",
       "        text-align: right;\n",
       "    }\n",
       "</style>\n",
       "<table border=\"1\" class=\"dataframe\">\n",
       "  <thead>\n",
       "    <tr style=\"text-align: right;\">\n",
       "      <th></th>\n",
       "      <th>Unnamed: 0</th>\n",
       "      <th>age_of_driver</th>\n",
       "      <th>Sex_of_driver</th>\n",
       "      <th>car_age</th>\n",
       "      <th>Road_surface_type</th>\n",
       "      <th>Road_surface_conditions</th>\n",
       "      <th>Light_conditions</th>\n",
       "      <th>Weather_conditions</th>\n",
       "      <th>Cause_of_accident</th>\n",
       "      <th>Accident_severity</th>\n",
       "      <th>accident history</th>\n",
       "    </tr>\n",
       "  </thead>\n",
       "  <tbody>\n",
       "    <tr>\n",
       "      <th>0</th>\n",
       "      <td>0</td>\n",
       "      <td>18-30</td>\n",
       "      <td>Male</td>\n",
       "      <td>Above 10yr</td>\n",
       "      <td>Asphalt roads</td>\n",
       "      <td>Dry</td>\n",
       "      <td>Daylight</td>\n",
       "      <td>Normal</td>\n",
       "      <td>Moving Backward</td>\n",
       "      <td>2</td>\n",
       "      <td>12</td>\n",
       "    </tr>\n",
       "    <tr>\n",
       "      <th>1</th>\n",
       "      <td>1</td>\n",
       "      <td>31-50</td>\n",
       "      <td>Male</td>\n",
       "      <td>5-10yrs</td>\n",
       "      <td>Asphalt roads</td>\n",
       "      <td>Dry</td>\n",
       "      <td>Daylight</td>\n",
       "      <td>Normal</td>\n",
       "      <td>Overtaking</td>\n",
       "      <td>2</td>\n",
       "      <td>1665</td>\n",
       "    </tr>\n",
       "    <tr>\n",
       "      <th>2</th>\n",
       "      <td>4</td>\n",
       "      <td>18-30</td>\n",
       "      <td>Male</td>\n",
       "      <td>5-10yrs</td>\n",
       "      <td>Asphalt roads</td>\n",
       "      <td>Dry</td>\n",
       "      <td>Darkness - lights lit</td>\n",
       "      <td>Normal</td>\n",
       "      <td>Overtaking</td>\n",
       "      <td>2</td>\n",
       "      <td>2554</td>\n",
       "    </tr>\n",
       "    <tr>\n",
       "      <th>3</th>\n",
       "      <td>7</td>\n",
       "      <td>18-30</td>\n",
       "      <td>Male</td>\n",
       "      <td>Above 10yr</td>\n",
       "      <td>Asphalt roads</td>\n",
       "      <td>Dry</td>\n",
       "      <td>Daylight</td>\n",
       "      <td>Normal</td>\n",
       "      <td>No priority to vehicle</td>\n",
       "      <td>2</td>\n",
       "      <td>1746</td>\n",
       "    </tr>\n",
       "    <tr>\n",
       "      <th>4</th>\n",
       "      <td>8</td>\n",
       "      <td>18-30</td>\n",
       "      <td>Male</td>\n",
       "      <td>1-2yr</td>\n",
       "      <td>Earth roads</td>\n",
       "      <td>Dry</td>\n",
       "      <td>Daylight</td>\n",
       "      <td>Normal</td>\n",
       "      <td>Changing lane to the right</td>\n",
       "      <td>2</td>\n",
       "      <td>14</td>\n",
       "    </tr>\n",
       "  </tbody>\n",
       "</table>\n",
       "</div>"
      ],
      "text/plain": [
       "   Unnamed: 0 age_of_driver Sex_of_driver     car_age Road_surface_type  \\\n",
       "0           0         18-30          Male  Above 10yr     Asphalt roads   \n",
       "1           1         31-50          Male     5-10yrs     Asphalt roads   \n",
       "2           4         18-30          Male     5-10yrs     Asphalt roads   \n",
       "3           7         18-30          Male  Above 10yr     Asphalt roads   \n",
       "4           8         18-30          Male       1-2yr       Earth roads   \n",
       "\n",
       "  Road_surface_conditions       Light_conditions Weather_conditions  \\\n",
       "0                     Dry               Daylight             Normal   \n",
       "1                     Dry               Daylight             Normal   \n",
       "2                     Dry  Darkness - lights lit             Normal   \n",
       "3                     Dry               Daylight             Normal   \n",
       "4                     Dry               Daylight             Normal   \n",
       "\n",
       "            Cause_of_accident  Accident_severity  accident history  \n",
       "0             Moving Backward                  2                12  \n",
       "1                  Overtaking                  2              1665  \n",
       "2                  Overtaking                  2              2554  \n",
       "3      No priority to vehicle                  2              1746  \n",
       "4  Changing lane to the right                  2                14  "
      ]
     },
     "execution_count": 6,
     "metadata": {},
     "output_type": "execute_result"
    }
   ],
   "source": [
    "df=data.copy(deep=True)\n",
    "df.head()"
   ]
  },
  {
   "cell_type": "markdown",
   "id": "53e3160e",
   "metadata": {},
   "source": [
    "# TREATING WITH NULL VALUES"
   ]
  },
  {
   "cell_type": "markdown",
   "id": "b1d8ad1b",
   "metadata": {},
   "source": [
    "# REMOVING UNWANTED FEATURES, keeping required columns.."
   ]
  },
  {
   "cell_type": "code",
   "execution_count": 10,
   "id": "b138d9d0",
   "metadata": {},
   "outputs": [
    {
     "data": {
      "text/plain": [
       "Unnamed: 0                 0\n",
       "age_of_driver              0\n",
       "Sex_of_driver              0\n",
       "car_age                    0\n",
       "Road_surface_type          0\n",
       "Road_surface_conditions    0\n",
       "Light_conditions           0\n",
       "Weather_conditions         0\n",
       "Cause_of_accident          0\n",
       "Accident_severity          0\n",
       "accident history           0\n",
       "dtype: int64"
      ]
     },
     "execution_count": 10,
     "metadata": {},
     "output_type": "execute_result"
    }
   ],
   "source": [
    "# checking null values\n",
    "df.isnull().sum()"
   ]
  },
  {
   "cell_type": "code",
   "execution_count": 15,
   "id": "f0aae412",
   "metadata": {},
   "outputs": [],
   "source": [
    "#drop unwanted columns\n",
    "df.drop(\"Unnamed: 0\",axis=1,inplace=True)"
   ]
  },
  {
   "cell_type": "code",
   "execution_count": 16,
   "id": "62152fd3",
   "metadata": {},
   "outputs": [
    {
     "data": {
      "text/plain": [
       "(5380, 10)"
      ]
     },
     "execution_count": 16,
     "metadata": {},
     "output_type": "execute_result"
    }
   ],
   "source": [
    "# shape of data\n",
    "df.shape"
   ]
  },
  {
   "cell_type": "code",
   "execution_count": 17,
   "id": "db6aa35a",
   "metadata": {
    "scrolled": true
   },
   "outputs": [
    {
     "data": {
      "text/html": [
       "<div>\n",
       "<style scoped>\n",
       "    .dataframe tbody tr th:only-of-type {\n",
       "        vertical-align: middle;\n",
       "    }\n",
       "\n",
       "    .dataframe tbody tr th {\n",
       "        vertical-align: top;\n",
       "    }\n",
       "\n",
       "    .dataframe thead th {\n",
       "        text-align: right;\n",
       "    }\n",
       "</style>\n",
       "<table border=\"1\" class=\"dataframe\">\n",
       "  <thead>\n",
       "    <tr style=\"text-align: right;\">\n",
       "      <th></th>\n",
       "      <th>age_of_driver</th>\n",
       "      <th>Sex_of_driver</th>\n",
       "      <th>car_age</th>\n",
       "      <th>Road_surface_type</th>\n",
       "      <th>Road_surface_conditions</th>\n",
       "      <th>Light_conditions</th>\n",
       "      <th>Weather_conditions</th>\n",
       "      <th>Cause_of_accident</th>\n",
       "      <th>Accident_severity</th>\n",
       "      <th>accident history</th>\n",
       "    </tr>\n",
       "  </thead>\n",
       "  <tbody>\n",
       "    <tr>\n",
       "      <th>0</th>\n",
       "      <td>18-30</td>\n",
       "      <td>Male</td>\n",
       "      <td>Above 10yr</td>\n",
       "      <td>Asphalt roads</td>\n",
       "      <td>Dry</td>\n",
       "      <td>Daylight</td>\n",
       "      <td>Normal</td>\n",
       "      <td>Moving Backward</td>\n",
       "      <td>2</td>\n",
       "      <td>12</td>\n",
       "    </tr>\n",
       "    <tr>\n",
       "      <th>1</th>\n",
       "      <td>31-50</td>\n",
       "      <td>Male</td>\n",
       "      <td>5-10yrs</td>\n",
       "      <td>Asphalt roads</td>\n",
       "      <td>Dry</td>\n",
       "      <td>Daylight</td>\n",
       "      <td>Normal</td>\n",
       "      <td>Overtaking</td>\n",
       "      <td>2</td>\n",
       "      <td>1665</td>\n",
       "    </tr>\n",
       "    <tr>\n",
       "      <th>2</th>\n",
       "      <td>18-30</td>\n",
       "      <td>Male</td>\n",
       "      <td>5-10yrs</td>\n",
       "      <td>Asphalt roads</td>\n",
       "      <td>Dry</td>\n",
       "      <td>Darkness - lights lit</td>\n",
       "      <td>Normal</td>\n",
       "      <td>Overtaking</td>\n",
       "      <td>2</td>\n",
       "      <td>2554</td>\n",
       "    </tr>\n",
       "    <tr>\n",
       "      <th>3</th>\n",
       "      <td>18-30</td>\n",
       "      <td>Male</td>\n",
       "      <td>Above 10yr</td>\n",
       "      <td>Asphalt roads</td>\n",
       "      <td>Dry</td>\n",
       "      <td>Daylight</td>\n",
       "      <td>Normal</td>\n",
       "      <td>No priority to vehicle</td>\n",
       "      <td>2</td>\n",
       "      <td>1746</td>\n",
       "    </tr>\n",
       "    <tr>\n",
       "      <th>4</th>\n",
       "      <td>18-30</td>\n",
       "      <td>Male</td>\n",
       "      <td>1-2yr</td>\n",
       "      <td>Earth roads</td>\n",
       "      <td>Dry</td>\n",
       "      <td>Daylight</td>\n",
       "      <td>Normal</td>\n",
       "      <td>Changing lane to the right</td>\n",
       "      <td>2</td>\n",
       "      <td>14</td>\n",
       "    </tr>\n",
       "  </tbody>\n",
       "</table>\n",
       "</div>"
      ],
      "text/plain": [
       "  age_of_driver Sex_of_driver     car_age Road_surface_type  \\\n",
       "0         18-30          Male  Above 10yr     Asphalt roads   \n",
       "1         31-50          Male     5-10yrs     Asphalt roads   \n",
       "2         18-30          Male     5-10yrs     Asphalt roads   \n",
       "3         18-30          Male  Above 10yr     Asphalt roads   \n",
       "4         18-30          Male       1-2yr       Earth roads   \n",
       "\n",
       "  Road_surface_conditions       Light_conditions Weather_conditions  \\\n",
       "0                     Dry               Daylight             Normal   \n",
       "1                     Dry               Daylight             Normal   \n",
       "2                     Dry  Darkness - lights lit             Normal   \n",
       "3                     Dry               Daylight             Normal   \n",
       "4                     Dry               Daylight             Normal   \n",
       "\n",
       "            Cause_of_accident  Accident_severity  accident history  \n",
       "0             Moving Backward                  2                12  \n",
       "1                  Overtaking                  2              1665  \n",
       "2                  Overtaking                  2              2554  \n",
       "3      No priority to vehicle                  2              1746  \n",
       "4  Changing lane to the right                  2                14  "
      ]
     },
     "execution_count": 17,
     "metadata": {},
     "output_type": "execute_result"
    }
   ],
   "source": [
    "df.head()"
   ]
  },
  {
   "cell_type": "code",
   "execution_count": 18,
   "id": "ae32b8f8",
   "metadata": {
    "scrolled": true
   },
   "outputs": [
    {
     "name": "stdout",
     "output_type": "stream",
     "text": [
      "age_of_driver\n",
      "['18-30' '31-50' 'Over 51' 'Under 18' 'Unknown']\n",
      "5\n",
      "\n",
      "Sex_of_driver\n",
      "['Male' 'Unknown' 'Female']\n",
      "3\n",
      "\n",
      "car_age\n",
      "['Above 10yr' '5-10yrs' '1-2yr' '2-5yrs' 'Unknown' 'Below 1yr']\n",
      "6\n",
      "\n",
      "Road_surface_type\n",
      "['Asphalt roads' 'Earth roads' 'Gravel roads' 'Other'\n",
      " 'Asphalt roads with some distress']\n",
      "5\n",
      "\n",
      "Road_surface_conditions\n",
      "['Dry' 'Wet or damp' 'Snow' 'Flood over 3cm. deep']\n",
      "4\n",
      "\n",
      "Light_conditions\n",
      "['Daylight' 'Darkness - lights lit' 'Darkness - no lighting'\n",
      " 'Darkness - lights unlit']\n",
      "4\n",
      "\n",
      "Weather_conditions\n",
      "['Normal' 'Raining' 'Raining and Windy' 'Cloudy' 'Windy' 'Other' 'Snow'\n",
      " 'Unknown' 'Fog or mist']\n",
      "9\n",
      "\n",
      "Cause_of_accident\n",
      "['Moving Backward' 'Overtaking' 'No priority to vehicle'\n",
      " 'Changing lane to the right' 'Changing lane to the left' 'No distancing'\n",
      " 'No priority to pedestrian' 'Other' 'Unknown' 'Overturning'\n",
      " 'Driving carelessly' 'Turnover' 'Driving to the left'\n",
      " 'Driving at high speed' 'Driving under the influence of drugs'\n",
      " 'Getting off the vehicle improperly' 'Overspeed' 'Drunk driving'\n",
      " 'Overloading' 'Improper parking']\n",
      "20\n",
      "\n"
     ]
    }
   ],
   "source": [
    "# checking for the columns of object dtypes with their unique values\n",
    "for i in df.columns:\n",
    "    if df[i].dtypes== object:\n",
    "        print(i)\n",
    "        print(df[i].unique())\n",
    "        print(df[i].nunique())\n",
    "        print()"
   ]
  },
  {
   "cell_type": "code",
   "execution_count": 19,
   "id": "5963681c",
   "metadata": {},
   "outputs": [
    {
     "name": "stdout",
     "output_type": "stream",
     "text": [
      "['age_of_driver', 'Sex_of_driver', 'car_age', 'Road_surface_type', 'Road_surface_conditions', 'Light_conditions', 'Weather_conditions', 'Cause_of_accident']\n"
     ]
    }
   ],
   "source": [
    "lst = []\n",
    "for i in df.columns:\n",
    "    if df[i].dtypes== object:\n",
    "        lst.append(i)\n",
    "print(lst)"
   ]
  },
  {
   "cell_type": "code",
   "execution_count": 20,
   "id": "861225d6",
   "metadata": {},
   "outputs": [
    {
     "name": "stdout",
     "output_type": "stream",
     "text": [
      "<class 'pandas.core.frame.DataFrame'>\n",
      "Int64Index: 5380 entries, 0 to 5379\n",
      "Data columns (total 10 columns):\n",
      " #   Column                   Non-Null Count  Dtype \n",
      "---  ------                   --------------  ----- \n",
      " 0   age_of_driver            5380 non-null   object\n",
      " 1   Sex_of_driver            5380 non-null   object\n",
      " 2   car_age                  5380 non-null   object\n",
      " 3   Road_surface_type        5380 non-null   object\n",
      " 4   Road_surface_conditions  5380 non-null   object\n",
      " 5   Light_conditions         5380 non-null   object\n",
      " 6   Weather_conditions       5380 non-null   object\n",
      " 7   Cause_of_accident        5380 non-null   object\n",
      " 8   Accident_severity        5380 non-null   int64 \n",
      " 9   accident history         5380 non-null   int64 \n",
      "dtypes: int64(2), object(8)\n",
      "memory usage: 462.3+ KB\n"
     ]
    }
   ],
   "source": [
    "df.info()"
   ]
  },
  {
   "cell_type": "code",
   "execution_count": 21,
   "id": "462e28fc",
   "metadata": {},
   "outputs": [
    {
     "data": {
      "text/html": [
       "<div>\n",
       "<style scoped>\n",
       "    .dataframe tbody tr th:only-of-type {\n",
       "        vertical-align: middle;\n",
       "    }\n",
       "\n",
       "    .dataframe tbody tr th {\n",
       "        vertical-align: top;\n",
       "    }\n",
       "\n",
       "    .dataframe thead th {\n",
       "        text-align: right;\n",
       "    }\n",
       "</style>\n",
       "<table border=\"1\" class=\"dataframe\">\n",
       "  <thead>\n",
       "    <tr style=\"text-align: right;\">\n",
       "      <th></th>\n",
       "      <th>age_of_driver</th>\n",
       "      <th>Sex_of_driver</th>\n",
       "      <th>car_age</th>\n",
       "      <th>Road_surface_type</th>\n",
       "      <th>Road_surface_conditions</th>\n",
       "      <th>Light_conditions</th>\n",
       "      <th>Weather_conditions</th>\n",
       "      <th>Cause_of_accident</th>\n",
       "      <th>Accident_severity</th>\n",
       "      <th>accident history</th>\n",
       "    </tr>\n",
       "  </thead>\n",
       "  <tbody>\n",
       "    <tr>\n",
       "      <th>5375</th>\n",
       "      <td>31-50</td>\n",
       "      <td>Male</td>\n",
       "      <td>Below 1yr</td>\n",
       "      <td>Asphalt roads</td>\n",
       "      <td>Dry</td>\n",
       "      <td>Daylight</td>\n",
       "      <td>Normal</td>\n",
       "      <td>Moving Backward</td>\n",
       "      <td>2</td>\n",
       "      <td>1712</td>\n",
       "    </tr>\n",
       "    <tr>\n",
       "      <th>5376</th>\n",
       "      <td>18-30</td>\n",
       "      <td>Male</td>\n",
       "      <td>Above 10yr</td>\n",
       "      <td>Asphalt roads</td>\n",
       "      <td>Dry</td>\n",
       "      <td>Daylight</td>\n",
       "      <td>Normal</td>\n",
       "      <td>Changing lane to the left</td>\n",
       "      <td>1</td>\n",
       "      <td>3723</td>\n",
       "    </tr>\n",
       "    <tr>\n",
       "      <th>5377</th>\n",
       "      <td>Over 51</td>\n",
       "      <td>Male</td>\n",
       "      <td>2-5yrs</td>\n",
       "      <td>Asphalt roads</td>\n",
       "      <td>Dry</td>\n",
       "      <td>Daylight</td>\n",
       "      <td>Normal</td>\n",
       "      <td>Changing lane to the right</td>\n",
       "      <td>1</td>\n",
       "      <td>860</td>\n",
       "    </tr>\n",
       "    <tr>\n",
       "      <th>5378</th>\n",
       "      <td>18-30</td>\n",
       "      <td>Female</td>\n",
       "      <td>2-5yrs</td>\n",
       "      <td>Asphalt roads</td>\n",
       "      <td>Dry</td>\n",
       "      <td>Darkness - lights lit</td>\n",
       "      <td>Normal</td>\n",
       "      <td>Driving under the influence of drugs</td>\n",
       "      <td>2</td>\n",
       "      <td>846</td>\n",
       "    </tr>\n",
       "    <tr>\n",
       "      <th>5379</th>\n",
       "      <td>18-30</td>\n",
       "      <td>Male</td>\n",
       "      <td>2-5yrs</td>\n",
       "      <td>Asphalt roads</td>\n",
       "      <td>Dry</td>\n",
       "      <td>Darkness - lights lit</td>\n",
       "      <td>Normal</td>\n",
       "      <td>Changing lane to the right</td>\n",
       "      <td>2</td>\n",
       "      <td>849</td>\n",
       "    </tr>\n",
       "  </tbody>\n",
       "</table>\n",
       "</div>"
      ],
      "text/plain": [
       "     age_of_driver Sex_of_driver     car_age Road_surface_type  \\\n",
       "5375         31-50          Male   Below 1yr     Asphalt roads   \n",
       "5376         18-30          Male  Above 10yr     Asphalt roads   \n",
       "5377       Over 51          Male      2-5yrs     Asphalt roads   \n",
       "5378         18-30        Female      2-5yrs     Asphalt roads   \n",
       "5379         18-30          Male      2-5yrs     Asphalt roads   \n",
       "\n",
       "     Road_surface_conditions       Light_conditions Weather_conditions  \\\n",
       "5375                     Dry               Daylight             Normal   \n",
       "5376                     Dry               Daylight             Normal   \n",
       "5377                     Dry               Daylight             Normal   \n",
       "5378                     Dry  Darkness - lights lit             Normal   \n",
       "5379                     Dry  Darkness - lights lit             Normal   \n",
       "\n",
       "                         Cause_of_accident  Accident_severity  \\\n",
       "5375                       Moving Backward                  2   \n",
       "5376             Changing lane to the left                  1   \n",
       "5377            Changing lane to the right                  1   \n",
       "5378  Driving under the influence of drugs                  2   \n",
       "5379            Changing lane to the right                  2   \n",
       "\n",
       "      accident history  \n",
       "5375              1712  \n",
       "5376              3723  \n",
       "5377               860  \n",
       "5378               846  \n",
       "5379               849  "
      ]
     },
     "execution_count": 21,
     "metadata": {},
     "output_type": "execute_result"
    }
   ],
   "source": [
    "df.tail()"
   ]
  },
  {
   "cell_type": "code",
   "execution_count": 22,
   "id": "c05b2ce9",
   "metadata": {},
   "outputs": [
    {
     "data": {
      "text/plain": [
       "3869"
      ]
     },
     "execution_count": 22,
     "metadata": {},
     "output_type": "execute_result"
    }
   ],
   "source": [
    "len(df[\"accident history\"].unique())"
   ]
  },
  {
   "cell_type": "code",
   "execution_count": 23,
   "id": "5589e1d3",
   "metadata": {},
   "outputs": [
    {
     "data": {
      "text/plain": [
       "Index(['age_of_driver', 'Sex_of_driver', 'car_age', 'Road_surface_type',\n",
       "       'Road_surface_conditions', 'Light_conditions', 'Weather_conditions',\n",
       "       'Cause_of_accident', 'Accident_severity', 'accident history'],\n",
       "      dtype='object')"
      ]
     },
     "execution_count": 23,
     "metadata": {},
     "output_type": "execute_result"
    }
   ],
   "source": [
    "df.columns"
   ]
  },
  {
   "cell_type": "code",
   "execution_count": 24,
   "id": "125e4bf9",
   "metadata": {},
   "outputs": [
    {
     "data": {
      "text/plain": [
       "array(['18-30', '31-50', 'Over 51', 'Under 18', 'Unknown'], dtype=object)"
      ]
     },
     "execution_count": 24,
     "metadata": {},
     "output_type": "execute_result"
    }
   ],
   "source": [
    "df[\"age_of_driver\"].unique()"
   ]
  },
  {
   "cell_type": "code",
   "execution_count": 26,
   "id": "fe3b70ab",
   "metadata": {
    "scrolled": false
   },
   "outputs": [
    {
     "data": {
      "text/html": [
       "<div>\n",
       "<style scoped>\n",
       "    .dataframe tbody tr th:only-of-type {\n",
       "        vertical-align: middle;\n",
       "    }\n",
       "\n",
       "    .dataframe tbody tr th {\n",
       "        vertical-align: top;\n",
       "    }\n",
       "\n",
       "    .dataframe thead th {\n",
       "        text-align: right;\n",
       "    }\n",
       "</style>\n",
       "<table border=\"1\" class=\"dataframe\">\n",
       "  <thead>\n",
       "    <tr style=\"text-align: right;\">\n",
       "      <th></th>\n",
       "      <th>age_of_driver</th>\n",
       "      <th>Sex_of_driver</th>\n",
       "      <th>car_age</th>\n",
       "      <th>Road_surface_type</th>\n",
       "      <th>Road_surface_conditions</th>\n",
       "      <th>Light_conditions</th>\n",
       "      <th>Weather_conditions</th>\n",
       "      <th>Cause_of_accident</th>\n",
       "      <th>Accident_severity</th>\n",
       "      <th>accident history</th>\n",
       "    </tr>\n",
       "  </thead>\n",
       "  <tbody>\n",
       "    <tr>\n",
       "      <th>0</th>\n",
       "      <td>18-30</td>\n",
       "      <td>Male</td>\n",
       "      <td>Above 10yr</td>\n",
       "      <td>Asphalt roads</td>\n",
       "      <td>Dry</td>\n",
       "      <td>Daylight</td>\n",
       "      <td>Normal</td>\n",
       "      <td>Moving Backward</td>\n",
       "      <td>2</td>\n",
       "      <td>12</td>\n",
       "    </tr>\n",
       "    <tr>\n",
       "      <th>1</th>\n",
       "      <td>31-50</td>\n",
       "      <td>Male</td>\n",
       "      <td>5-10yrs</td>\n",
       "      <td>Asphalt roads</td>\n",
       "      <td>Dry</td>\n",
       "      <td>Daylight</td>\n",
       "      <td>Normal</td>\n",
       "      <td>Overtaking</td>\n",
       "      <td>2</td>\n",
       "      <td>1665</td>\n",
       "    </tr>\n",
       "    <tr>\n",
       "      <th>2</th>\n",
       "      <td>18-30</td>\n",
       "      <td>Male</td>\n",
       "      <td>5-10yrs</td>\n",
       "      <td>Asphalt roads</td>\n",
       "      <td>Dry</td>\n",
       "      <td>Darkness - lights lit</td>\n",
       "      <td>Normal</td>\n",
       "      <td>Overtaking</td>\n",
       "      <td>2</td>\n",
       "      <td>2554</td>\n",
       "    </tr>\n",
       "    <tr>\n",
       "      <th>3</th>\n",
       "      <td>18-30</td>\n",
       "      <td>Male</td>\n",
       "      <td>Above 10yr</td>\n",
       "      <td>Asphalt roads</td>\n",
       "      <td>Dry</td>\n",
       "      <td>Daylight</td>\n",
       "      <td>Normal</td>\n",
       "      <td>No priority to vehicle</td>\n",
       "      <td>2</td>\n",
       "      <td>1746</td>\n",
       "    </tr>\n",
       "    <tr>\n",
       "      <th>4</th>\n",
       "      <td>18-30</td>\n",
       "      <td>Male</td>\n",
       "      <td>1-2yr</td>\n",
       "      <td>Earth roads</td>\n",
       "      <td>Dry</td>\n",
       "      <td>Daylight</td>\n",
       "      <td>Normal</td>\n",
       "      <td>Changing lane to the right</td>\n",
       "      <td>2</td>\n",
       "      <td>14</td>\n",
       "    </tr>\n",
       "  </tbody>\n",
       "</table>\n",
       "</div>"
      ],
      "text/plain": [
       "  age_of_driver Sex_of_driver     car_age Road_surface_type  \\\n",
       "0         18-30          Male  Above 10yr     Asphalt roads   \n",
       "1         31-50          Male     5-10yrs     Asphalt roads   \n",
       "2         18-30          Male     5-10yrs     Asphalt roads   \n",
       "3         18-30          Male  Above 10yr     Asphalt roads   \n",
       "4         18-30          Male       1-2yr       Earth roads   \n",
       "\n",
       "  Road_surface_conditions       Light_conditions Weather_conditions  \\\n",
       "0                     Dry               Daylight             Normal   \n",
       "1                     Dry               Daylight             Normal   \n",
       "2                     Dry  Darkness - lights lit             Normal   \n",
       "3                     Dry               Daylight             Normal   \n",
       "4                     Dry               Daylight             Normal   \n",
       "\n",
       "            Cause_of_accident  Accident_severity  accident history  \n",
       "0             Moving Backward                  2                12  \n",
       "1                  Overtaking                  2              1665  \n",
       "2                  Overtaking                  2              2554  \n",
       "3      No priority to vehicle                  2              1746  \n",
       "4  Changing lane to the right                  2                14  "
      ]
     },
     "execution_count": 26,
     "metadata": {},
     "output_type": "execute_result"
    }
   ],
   "source": [
    "df.head()"
   ]
  },
  {
   "cell_type": "markdown",
   "id": "b11b6f7b",
   "metadata": {},
   "source": [
    "# Creating Model"
   ]
  },
  {
   "cell_type": "code",
   "execution_count": 27,
   "id": "31b80c1e",
   "metadata": {},
   "outputs": [],
   "source": [
    "from sklearn.metrics import accuracy_score\n",
    "from sklearn.preprocessing import StandardScaler\n",
    "from sklearn.compose import ColumnTransformer\n",
    "from sklearn.pipeline import Pipeline\n",
    "from sklearn.preprocessing import OneHotEncoder,LabelEncoder,FunctionTransformer\n",
    "from sklearn.ensemble import RandomForestClassifier\n",
    "import pickle\n",
    "from sklearn.model_selection import train_test_split\n",
    "from sklearn.metrics import confusion_matrix\n",
    "from sklearn.metrics import classification_report\n",
    "from sklearn.metrics import accuracy_score,recall_score,f1_score,precision_score\n",
    "from imblearn.over_sampling import RandomOverSampler"
   ]
  },
  {
   "cell_type": "code",
   "execution_count": 28,
   "id": "93a634ff",
   "metadata": {},
   "outputs": [],
   "source": [
    "X=df.drop('Accident_severity',axis=1)\n",
    "y=df['Accident_severity']"
   ]
  },
  {
   "cell_type": "markdown",
   "id": "c87ebfaf",
   "metadata": {},
   "source": [
    "# our class in imbalance we can't perform classification model on imbalance class so we need to balance the class"
   ]
  },
  {
   "cell_type": "code",
   "execution_count": 31,
   "id": "7aa10352",
   "metadata": {
    "scrolled": true
   },
   "outputs": [
    {
     "name": "stdout",
     "output_type": "stream",
     "text": [
      "Class distribution after oversampling:\n",
      "0    4548\n",
      "1    4548\n",
      "2    4548\n",
      "Name: Accident_severity, dtype: int64\n"
     ]
    }
   ],
   "source": [
    "# Create an instance of RandomUnderSampler\n",
    "over_sampler = RandomOverSampler(random_state=42)\n",
    "\n",
    "# Perform oversampling on the majority class\n",
    "X_resampled, y_resampled = over_sampler.fit_resample(X, y)\n",
    "\n",
    "# Verify the class distribution after oversampling\n",
    "class_distribution = pd.Series(y_resampled).value_counts()\n",
    "print(\"Class distribution after oversampling:\")\n",
    "print(class_distribution)"
   ]
  },
  {
   "cell_type": "code",
   "execution_count": 30,
   "id": "d080425e",
   "metadata": {},
   "outputs": [
    {
     "data": {
      "text/plain": [
       "(5380, 10)"
      ]
     },
     "execution_count": 30,
     "metadata": {},
     "output_type": "execute_result"
    }
   ],
   "source": [
    "df.shape"
   ]
  },
  {
   "cell_type": "code",
   "execution_count": 32,
   "id": "34de91b3",
   "metadata": {},
   "outputs": [
    {
     "name": "stdout",
     "output_type": "stream",
     "text": [
      "Test Accuracy: 0.9433317049340498\n"
     ]
    }
   ],
   "source": [
    "X_train,X_test,y_train,y_test = train_test_split(X_resampled, y_resampled,test_size=0.3,random_state=40)\n",
    "column_transformer = ColumnTransformer(\n",
    "    transformers=[\n",
    "        ('encoder', OneHotEncoder(handle_unknown='ignore'), ['Sex_of_driver', 'car_age', 'Road_surface_type', 'Road_surface_conditions', 'Light_conditions', 'Weather_conditions', 'age_of_driver', 'Cause_of_accident'])  # Specify the columns to encode\n",
    "    ],\n",
    "    remainder='passthrough'  # Pass through the remaining columns without any transformation\n",
    ")\n",
    "\n",
    "# Create the pipeline\n",
    "make_pipeline = Pipeline([\n",
    "    ('preprocessor', column_transformer),\n",
    "    ('scaler', StandardScaler(with_mean=False)),\n",
    "    ('model', RandomForestClassifier(max_depth=40, random_state=42))\n",
    "])\n",
    "\n",
    "# Fit the pipeline to the training data\n",
    "make_pipeline.fit(X_train, y_train)\n",
    "\n",
    "# Predict on the test data\n",
    "y_pred = make_pipeline.predict(X_test)\n",
    "\n",
    "# Calculate accuracy\n",
    "accuracy = accuracy_score(y_test, y_pred)\n",
    "print(\"Test Accuracy:\", accuracy)"
   ]
  },
  {
   "cell_type": "code",
   "execution_count": 79,
   "id": "48ffbe45",
   "metadata": {},
   "outputs": [
    {
     "data": {
      "text/plain": [
       "Index(['age_of_driver', 'Sex_of_driver', 'car_age', 'Road_surface_type',\n",
       "       'Road_surface_conditions', 'Light_conditions', 'Weather_conditions',\n",
       "       'Cause_of_accident', 'accident history'],\n",
       "      dtype='object')"
      ]
     },
     "execution_count": 79,
     "metadata": {},
     "output_type": "execute_result"
    }
   ],
   "source": [
    "X_train.columns"
   ]
  },
  {
   "cell_type": "code",
   "execution_count": 38,
   "id": "bb3642e2",
   "metadata": {},
   "outputs": [
    {
     "name": "stdout",
     "output_type": "stream",
     "text": [
      "confusion matrix :\n",
      " [[1411    0    0]\n",
      " [   0 1329   23]\n",
      " [  10  199 1122]]\n",
      "\n",
      "===============================================\n",
      "classification report:\n",
      "               precision    recall  f1-score   support\n",
      "\n",
      "           0       0.99      1.00      1.00      1411\n",
      "           1       0.87      0.98      0.92      1352\n",
      "           2       0.98      0.84      0.91      1331\n",
      "\n",
      "    accuracy                           0.94      4094\n",
      "   macro avg       0.95      0.94      0.94      4094\n",
      "weighted avg       0.95      0.94      0.94      4094\n",
      "\n",
      "\n",
      "===============================================\n",
      "accuracy : 0.94\n",
      "precision : 0.95\n",
      "recall : 0.94\n",
      "f1 : 0.94\n",
      "\n"
     ]
    }
   ],
   "source": [
    "print('confusion matrix :\\n',confusion_matrix(y_test,y_pred))\n",
    "\n",
    "print()\n",
    "\n",
    "print(\"===============================================\")\n",
    "print('classification report:\\n',classification_report(y_test,y_pred))\n",
    "\n",
    "print()\n",
    "\n",
    "print(\"===============================================\")\n",
    "print('accuracy :',round(accuracy_score(y_test,y_pred),2))\n",
    "print('precision :',round(precision_score(y_test,y_pred,average='weighted'),2))\n",
    "print('recall :',round(recall_score(y_test,y_pred,average='weighted'),2))\n",
    "print('f1 :',round(f1_score(y_test,y_pred,average='weighted'),2))\n",
    "print()"
   ]
  },
  {
   "cell_type": "code",
   "execution_count": 39,
   "id": "44d11017",
   "metadata": {},
   "outputs": [],
   "source": [
    "with open(\"safe_road.pkl\", \"wb\") as f:\n",
    "    pickle.dump(make_pipeline, f)"
   ]
  },
  {
   "cell_type": "code",
   "execution_count": null,
   "id": "85b8c5ff",
   "metadata": {},
   "outputs": [],
   "source": [
    "import seaborn as sns"
   ]
  },
  {
   "cell_type": "code",
   "execution_count": 40,
   "id": "3e5ec81f",
   "metadata": {
    "scrolled": false
   },
   "outputs": [],
   "source": [
    "import matplotlib.pyplot as plt\n",
    "import seaborn as sns\n",
    "from sklearn.metrics import classification_report\n",
    "\n",
    "# Assuming you have already calculated y_test and y_pred\n",
    "\n",
    "# Generate the classification report\n",
    "report = classification_report(y_test, y_pred)\n",
    "\n",
    "# Create a DataFrame from the classification report\n",
    "df_report = pd.DataFrame(classification_report(y_test, y_pred, output_dict=True)).transpose()\n",
    "\n",
    "# Plot the heatmap\n",
    "plt.figure(figsize=(8, 5))\n",
    "sns.heatmap(df_report.iloc[:-1, :].T, annot=True, cmap=\"YlGnBu\", cbar=False)\n",
    "plt.title('Classification Report Heatmap')\n",
    "plt.xlabel('Metrics')\n",
    "plt.ylabel('Classes')\n",
    "plt.tight_layout()\n",
    "plt.savefig('Road_data_plot1.png')\n",
    "plt.close()"
   ]
  },
  {
   "cell_type": "code",
   "execution_count": 41,
   "id": "9a583138",
   "metadata": {},
   "outputs": [],
   "source": [
    "cm = confusion_matrix(y_test, y_pred)\n",
    "\n",
    "plt.figure(figsize=(8, 6))\n",
    "sns.heatmap(cm, annot=True, cmap=\"YlGnBu\", cbar=False)\n",
    "plt.title('Confusion Matrix')\n",
    "plt.xlabel('Predicted Labels')\n",
    "plt.ylabel('True Labels')\n",
    "# Save the plot as an image\n",
    "plt.savefig('Road_data_plot.png')\n",
    "plt.close()"
   ]
  },
  {
   "cell_type": "code",
   "execution_count": null,
   "id": "cc7d1f52",
   "metadata": {},
   "outputs": [],
   "source": []
  }
 ],
 "metadata": {
  "kernelspec": {
   "display_name": "Python 3",
   "language": "python",
   "name": "python3"
  },
  "language_info": {
   "codemirror_mode": {
    "name": "ipython",
    "version": 3
   },
   "file_extension": ".py",
   "mimetype": "text/x-python",
   "name": "python",
   "nbconvert_exporter": "python",
   "pygments_lexer": "ipython3",
   "version": "3.8.8"
  }
 },
 "nbformat": 4,
 "nbformat_minor": 5
}
